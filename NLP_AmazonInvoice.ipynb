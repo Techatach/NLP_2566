{
 "cells": [
  {
   "cell_type": "markdown",
   "metadata": {},
   "source": [
    "ระบบแนะนำสินค้า เมื่อลูกค้าเข้าไป shopping สินค้าใดสินค้าหนึ่ง AI จะแนะนำรายการสินค้าอื่นที่คล้ายกันมาให้พิจารณา"
   ]
  },
  {
   "cell_type": "code",
   "execution_count": 2,
   "metadata": {},
   "outputs": [
    {
     "name": "stderr",
     "output_type": "stream",
     "text": [
      "c:\\Users\\Taechatuch\\anaconda3\\envs\\mydata\\lib\\site-packages\\paramiko\\transport.py:219: CryptographyDeprecationWarning: Blowfish has been deprecated\n",
      "  \"class\": algorithms.Blowfish,\n"
     ]
    }
   ],
   "source": [
    "#http://archive.ics.uci.edu/ml/machine-learning-databases/00352/\n",
    "# conda install -c conda-forge tqdm\n",
    "# pip install tqdm\n",
    "# pip install openpyxl\n",
    "# pip install gensim\n",
    "\n",
    "import pandas as pd \n",
    "import numpy as np\n",
    "import matplotlib.pyplot as plt \n",
    "from tqdm import tqdm \n",
    "from gensim.models import Word2Vec\n",
    "from gensim.models.callbacks import CallbackAny2Vec"
   ]
  },
  {
   "cell_type": "code",
   "execution_count": 3,
   "metadata": {},
   "outputs": [],
   "source": [
    "#การเลือกคอลัมน์ a ถึง d และคอลัมน์ g \n",
    "cols = 'a:d,g' \n",
    "\n",
    "df = pd.read_excel(\"Online Retail.xlsx\", usecols=cols, \n",
    "                  dtype={'CustomerID':str, 'InvoiceNo':str})"
   ]
  },
  {
   "cell_type": "code",
   "execution_count": 4,
   "metadata": {},
   "outputs": [
    {
     "data": {
      "text/html": [
       "<div>\n",
       "<style scoped>\n",
       "    .dataframe tbody tr th:only-of-type {\n",
       "        vertical-align: middle;\n",
       "    }\n",
       "\n",
       "    .dataframe tbody tr th {\n",
       "        vertical-align: top;\n",
       "    }\n",
       "\n",
       "    .dataframe thead th {\n",
       "        text-align: right;\n",
       "    }\n",
       "</style>\n",
       "<table border=\"1\" class=\"dataframe\">\n",
       "  <thead>\n",
       "    <tr style=\"text-align: right;\">\n",
       "      <th></th>\n",
       "      <th>InvoiceNo</th>\n",
       "      <th>StockCode</th>\n",
       "      <th>Description</th>\n",
       "      <th>Quantity</th>\n",
       "      <th>CustomerID</th>\n",
       "    </tr>\n",
       "  </thead>\n",
       "  <tbody>\n",
       "    <tr>\n",
       "      <th>0</th>\n",
       "      <td>536365</td>\n",
       "      <td>85123A</td>\n",
       "      <td>WHITE HANGING HEART T-LIGHT HOLDER</td>\n",
       "      <td>6</td>\n",
       "      <td>17850</td>\n",
       "    </tr>\n",
       "    <tr>\n",
       "      <th>1</th>\n",
       "      <td>536365</td>\n",
       "      <td>71053</td>\n",
       "      <td>WHITE METAL LANTERN</td>\n",
       "      <td>6</td>\n",
       "      <td>17850</td>\n",
       "    </tr>\n",
       "    <tr>\n",
       "      <th>2</th>\n",
       "      <td>536365</td>\n",
       "      <td>84406B</td>\n",
       "      <td>CREAM CUPID HEARTS COAT HANGER</td>\n",
       "      <td>8</td>\n",
       "      <td>17850</td>\n",
       "    </tr>\n",
       "    <tr>\n",
       "      <th>3</th>\n",
       "      <td>536365</td>\n",
       "      <td>84029G</td>\n",
       "      <td>KNITTED UNION FLAG HOT WATER BOTTLE</td>\n",
       "      <td>6</td>\n",
       "      <td>17850</td>\n",
       "    </tr>\n",
       "    <tr>\n",
       "      <th>4</th>\n",
       "      <td>536365</td>\n",
       "      <td>84029E</td>\n",
       "      <td>RED WOOLLY HOTTIE WHITE HEART.</td>\n",
       "      <td>6</td>\n",
       "      <td>17850</td>\n",
       "    </tr>\n",
       "  </tbody>\n",
       "</table>\n",
       "</div>"
      ],
      "text/plain": [
       "  InvoiceNo StockCode                          Description  Quantity  \\\n",
       "0    536365    85123A   WHITE HANGING HEART T-LIGHT HOLDER         6   \n",
       "1    536365     71053                  WHITE METAL LANTERN         6   \n",
       "2    536365    84406B       CREAM CUPID HEARTS COAT HANGER         8   \n",
       "3    536365    84029G  KNITTED UNION FLAG HOT WATER BOTTLE         6   \n",
       "4    536365    84029E       RED WOOLLY HOTTIE WHITE HEART.         6   \n",
       "\n",
       "  CustomerID  \n",
       "0      17850  \n",
       "1      17850  \n",
       "2      17850  \n",
       "3      17850  \n",
       "4      17850  "
      ]
     },
     "execution_count": 4,
     "metadata": {},
     "output_type": "execute_result"
    }
   ],
   "source": [
    "df.head()"
   ]
  },
  {
   "cell_type": "code",
   "execution_count": 5,
   "metadata": {},
   "outputs": [
    {
     "data": {
      "text/html": [
       "<div>\n",
       "<style scoped>\n",
       "    .dataframe tbody tr th:only-of-type {\n",
       "        vertical-align: middle;\n",
       "    }\n",
       "\n",
       "    .dataframe tbody tr th {\n",
       "        vertical-align: top;\n",
       "    }\n",
       "\n",
       "    .dataframe thead th {\n",
       "        text-align: right;\n",
       "    }\n",
       "</style>\n",
       "<table border=\"1\" class=\"dataframe\">\n",
       "  <thead>\n",
       "    <tr style=\"text-align: right;\">\n",
       "      <th></th>\n",
       "      <th>InvoiceNo</th>\n",
       "      <th>StockCode</th>\n",
       "      <th>Description</th>\n",
       "      <th>Quantity</th>\n",
       "      <th>CustomerID</th>\n",
       "    </tr>\n",
       "  </thead>\n",
       "  <tbody>\n",
       "    <tr>\n",
       "      <th>263613</th>\n",
       "      <td>560024</td>\n",
       "      <td>84859A</td>\n",
       "      <td>SILVER DISCO HANDBAG</td>\n",
       "      <td>1</td>\n",
       "      <td>15005</td>\n",
       "    </tr>\n",
       "    <tr>\n",
       "      <th>130183</th>\n",
       "      <td>547417</td>\n",
       "      <td>22223</td>\n",
       "      <td>CAKE PLATE LOVEBIRD PINK</td>\n",
       "      <td>9</td>\n",
       "      <td>13239</td>\n",
       "    </tr>\n",
       "    <tr>\n",
       "      <th>438566</th>\n",
       "      <td>574328</td>\n",
       "      <td>79321</td>\n",
       "      <td>CHILLI LIGHTS</td>\n",
       "      <td>8</td>\n",
       "      <td>13081</td>\n",
       "    </tr>\n",
       "    <tr>\n",
       "      <th>339288</th>\n",
       "      <td>566585</td>\n",
       "      <td>22584</td>\n",
       "      <td>PACK OF 6 PANNETONE GIFT BOXES</td>\n",
       "      <td>6</td>\n",
       "      <td>16409</td>\n",
       "    </tr>\n",
       "    <tr>\n",
       "      <th>372042</th>\n",
       "      <td>569230</td>\n",
       "      <td>22361</td>\n",
       "      <td>GLASS JAR DAISY FRESH COTTON WOOL</td>\n",
       "      <td>1</td>\n",
       "      <td>16533</td>\n",
       "    </tr>\n",
       "    <tr>\n",
       "      <th>406561</th>\n",
       "      <td>571797</td>\n",
       "      <td>20726</td>\n",
       "      <td>LUNCH BAG WOODLAND</td>\n",
       "      <td>1</td>\n",
       "      <td>NaN</td>\n",
       "    </tr>\n",
       "    <tr>\n",
       "      <th>378835</th>\n",
       "      <td>569669</td>\n",
       "      <td>47504K</td>\n",
       "      <td>ENGLISH ROSE GARDEN SECATEURS</td>\n",
       "      <td>1</td>\n",
       "      <td>14730</td>\n",
       "    </tr>\n",
       "    <tr>\n",
       "      <th>110685</th>\n",
       "      <td>545693</td>\n",
       "      <td>47566B</td>\n",
       "      <td>TEA TIME PARTY BUNTING</td>\n",
       "      <td>10</td>\n",
       "      <td>16422</td>\n",
       "    </tr>\n",
       "    <tr>\n",
       "      <th>219733</th>\n",
       "      <td>556107</td>\n",
       "      <td>22729</td>\n",
       "      <td>ALARM CLOCK BAKELIKE ORANGE</td>\n",
       "      <td>1</td>\n",
       "      <td>17360</td>\n",
       "    </tr>\n",
       "    <tr>\n",
       "      <th>443842</th>\n",
       "      <td>574714</td>\n",
       "      <td>22150</td>\n",
       "      <td>3 STRIPEY MICE FELTCRAFT</td>\n",
       "      <td>2</td>\n",
       "      <td>15427</td>\n",
       "    </tr>\n",
       "  </tbody>\n",
       "</table>\n",
       "</div>"
      ],
      "text/plain": [
       "       InvoiceNo StockCode                        Description  Quantity  \\\n",
       "263613    560024    84859A               SILVER DISCO HANDBAG         1   \n",
       "130183    547417     22223           CAKE PLATE LOVEBIRD PINK         9   \n",
       "438566    574328     79321                      CHILLI LIGHTS         8   \n",
       "339288    566585     22584     PACK OF 6 PANNETONE GIFT BOXES         6   \n",
       "372042    569230     22361  GLASS JAR DAISY FRESH COTTON WOOL         1   \n",
       "406561    571797     20726                 LUNCH BAG WOODLAND         1   \n",
       "378835    569669    47504K      ENGLISH ROSE GARDEN SECATEURS         1   \n",
       "110685    545693    47566B             TEA TIME PARTY BUNTING        10   \n",
       "219733    556107     22729        ALARM CLOCK BAKELIKE ORANGE         1   \n",
       "443842    574714     22150           3 STRIPEY MICE FELTCRAFT         2   \n",
       "\n",
       "       CustomerID  \n",
       "263613      15005  \n",
       "130183      13239  \n",
       "438566      13081  \n",
       "339288      16409  \n",
       "372042      16533  \n",
       "406561        NaN  \n",
       "378835      14730  \n",
       "110685      16422  \n",
       "219733      17360  \n",
       "443842      15427  "
      ]
     },
     "execution_count": 5,
     "metadata": {},
     "output_type": "execute_result"
    }
   ],
   "source": [
    "df.sample(10)"
   ]
  },
  {
   "cell_type": "code",
   "execution_count": 6,
   "metadata": {},
   "outputs": [
    {
     "data": {
      "text/html": [
       "<div>\n",
       "<style scoped>\n",
       "    .dataframe tbody tr th:only-of-type {\n",
       "        vertical-align: middle;\n",
       "    }\n",
       "\n",
       "    .dataframe tbody tr th {\n",
       "        vertical-align: top;\n",
       "    }\n",
       "\n",
       "    .dataframe thead th {\n",
       "        text-align: right;\n",
       "    }\n",
       "</style>\n",
       "<table border=\"1\" class=\"dataframe\">\n",
       "  <thead>\n",
       "    <tr style=\"text-align: right;\">\n",
       "      <th></th>\n",
       "      <th>InvoiceNo</th>\n",
       "      <th>StockCode</th>\n",
       "      <th>Description</th>\n",
       "      <th>Quantity</th>\n",
       "      <th>CustomerID</th>\n",
       "    </tr>\n",
       "  </thead>\n",
       "  <tbody>\n",
       "    <tr>\n",
       "      <th>541904</th>\n",
       "      <td>581587</td>\n",
       "      <td>22613</td>\n",
       "      <td>PACK OF 20 SPACEBOY NAPKINS</td>\n",
       "      <td>12</td>\n",
       "      <td>12680</td>\n",
       "    </tr>\n",
       "    <tr>\n",
       "      <th>541905</th>\n",
       "      <td>581587</td>\n",
       "      <td>22899</td>\n",
       "      <td>CHILDREN'S APRON DOLLY GIRL</td>\n",
       "      <td>6</td>\n",
       "      <td>12680</td>\n",
       "    </tr>\n",
       "    <tr>\n",
       "      <th>541906</th>\n",
       "      <td>581587</td>\n",
       "      <td>23254</td>\n",
       "      <td>CHILDRENS CUTLERY DOLLY GIRL</td>\n",
       "      <td>4</td>\n",
       "      <td>12680</td>\n",
       "    </tr>\n",
       "    <tr>\n",
       "      <th>541907</th>\n",
       "      <td>581587</td>\n",
       "      <td>23255</td>\n",
       "      <td>CHILDRENS CUTLERY CIRCUS PARADE</td>\n",
       "      <td>4</td>\n",
       "      <td>12680</td>\n",
       "    </tr>\n",
       "    <tr>\n",
       "      <th>541908</th>\n",
       "      <td>581587</td>\n",
       "      <td>22138</td>\n",
       "      <td>BAKING SET 9 PIECE RETROSPOT</td>\n",
       "      <td>3</td>\n",
       "      <td>12680</td>\n",
       "    </tr>\n",
       "  </tbody>\n",
       "</table>\n",
       "</div>"
      ],
      "text/plain": [
       "       InvoiceNo StockCode                      Description  Quantity  \\\n",
       "541904    581587     22613      PACK OF 20 SPACEBOY NAPKINS        12   \n",
       "541905    581587     22899     CHILDREN'S APRON DOLLY GIRL          6   \n",
       "541906    581587     23254    CHILDRENS CUTLERY DOLLY GIRL          4   \n",
       "541907    581587     23255  CHILDRENS CUTLERY CIRCUS PARADE         4   \n",
       "541908    581587     22138    BAKING SET 9 PIECE RETROSPOT          3   \n",
       "\n",
       "       CustomerID  \n",
       "541904      12680  \n",
       "541905      12680  \n",
       "541906      12680  \n",
       "541907      12680  \n",
       "541908      12680  "
      ]
     },
     "execution_count": 6,
     "metadata": {},
     "output_type": "execute_result"
    }
   ],
   "source": [
    "df.tail()"
   ]
  },
  {
   "cell_type": "markdown",
   "metadata": {},
   "source": [
    "ตรวจสอบการคืนสินค้าที่มีเครื่องหมายติดลบ -"
   ]
  },
  {
   "cell_type": "code",
   "execution_count": 7,
   "metadata": {},
   "outputs": [
    {
     "data": {
      "text/plain": [
       "Quantity\n",
       "-80995    1\n",
       "-74215    1\n",
       "-9600     2\n",
       "-9360     1\n",
       "-9058     1\n",
       "         ..\n",
       " 4800     1\n",
       " 5568     1\n",
       " 12540    1\n",
       " 74215    1\n",
       " 80995    1\n",
       "Length: 722, dtype: int64"
      ]
     },
     "execution_count": 7,
     "metadata": {},
     "output_type": "execute_result"
    }
   ],
   "source": [
    "df.groupby('Quantity').size()"
   ]
  },
  {
   "cell_type": "markdown",
   "metadata": {},
   "source": [
    "ใช้เงื่อนไขตรวจสอบการคืนสินค้ามากกว่า 100 ชิ้น"
   ]
  },
  {
   "cell_type": "code",
   "execution_count": 8,
   "metadata": {},
   "outputs": [
    {
     "data": {
      "text/html": [
       "<div>\n",
       "<style scoped>\n",
       "    .dataframe tbody tr th:only-of-type {\n",
       "        vertical-align: middle;\n",
       "    }\n",
       "\n",
       "    .dataframe tbody tr th {\n",
       "        vertical-align: top;\n",
       "    }\n",
       "\n",
       "    .dataframe thead th {\n",
       "        text-align: right;\n",
       "    }\n",
       "</style>\n",
       "<table border=\"1\" class=\"dataframe\">\n",
       "  <thead>\n",
       "    <tr style=\"text-align: right;\">\n",
       "      <th></th>\n",
       "      <th>InvoiceNo</th>\n",
       "      <th>StockCode</th>\n",
       "      <th>Description</th>\n",
       "      <th>Quantity</th>\n",
       "      <th>CustomerID</th>\n",
       "    </tr>\n",
       "  </thead>\n",
       "  <tbody>\n",
       "    <tr>\n",
       "      <th>540422</th>\n",
       "      <td>C581484</td>\n",
       "      <td>23843</td>\n",
       "      <td>PAPER CRAFT , LITTLE BIRDIE</td>\n",
       "      <td>-80995</td>\n",
       "      <td>16446</td>\n",
       "    </tr>\n",
       "    <tr>\n",
       "      <th>61624</th>\n",
       "      <td>C541433</td>\n",
       "      <td>23166</td>\n",
       "      <td>MEDIUM CERAMIC TOP STORAGE JAR</td>\n",
       "      <td>-74215</td>\n",
       "      <td>12346</td>\n",
       "    </tr>\n",
       "    <tr>\n",
       "      <th>225530</th>\n",
       "      <td>556691</td>\n",
       "      <td>23005</td>\n",
       "      <td>printing smudges/thrown away</td>\n",
       "      <td>-9600</td>\n",
       "      <td>NaN</td>\n",
       "    </tr>\n",
       "    <tr>\n",
       "      <th>225529</th>\n",
       "      <td>556690</td>\n",
       "      <td>23005</td>\n",
       "      <td>printing smudges/thrown away</td>\n",
       "      <td>-9600</td>\n",
       "      <td>NaN</td>\n",
       "    </tr>\n",
       "    <tr>\n",
       "      <th>4287</th>\n",
       "      <td>C536757</td>\n",
       "      <td>84347</td>\n",
       "      <td>ROTATING SILVER ANGELS T-LIGHT HLDR</td>\n",
       "      <td>-9360</td>\n",
       "      <td>15838</td>\n",
       "    </tr>\n",
       "    <tr>\n",
       "      <th>225528</th>\n",
       "      <td>556687</td>\n",
       "      <td>23003</td>\n",
       "      <td>Printing smudges/thrown away</td>\n",
       "      <td>-9058</td>\n",
       "      <td>NaN</td>\n",
       "    </tr>\n",
       "    <tr>\n",
       "      <th>115818</th>\n",
       "      <td>546152</td>\n",
       "      <td>72140F</td>\n",
       "      <td>throw away</td>\n",
       "      <td>-5368</td>\n",
       "      <td>NaN</td>\n",
       "    </tr>\n",
       "    <tr>\n",
       "      <th>431381</th>\n",
       "      <td>573596</td>\n",
       "      <td>79323W</td>\n",
       "      <td>Unsaleable, destroyed.</td>\n",
       "      <td>-4830</td>\n",
       "      <td>NaN</td>\n",
       "    </tr>\n",
       "    <tr>\n",
       "      <th>341601</th>\n",
       "      <td>566768</td>\n",
       "      <td>16045</td>\n",
       "      <td>NaN</td>\n",
       "      <td>-3667</td>\n",
       "      <td>NaN</td>\n",
       "    </tr>\n",
       "    <tr>\n",
       "      <th>323458</th>\n",
       "      <td>565304</td>\n",
       "      <td>16259</td>\n",
       "      <td>NaN</td>\n",
       "      <td>-3167</td>\n",
       "      <td>NaN</td>\n",
       "    </tr>\n",
       "  </tbody>\n",
       "</table>\n",
       "</div>"
      ],
      "text/plain": [
       "       InvoiceNo StockCode                          Description  Quantity  \\\n",
       "540422   C581484     23843          PAPER CRAFT , LITTLE BIRDIE    -80995   \n",
       "61624    C541433     23166       MEDIUM CERAMIC TOP STORAGE JAR    -74215   \n",
       "225530    556691     23005         printing smudges/thrown away     -9600   \n",
       "225529    556690     23005         printing smudges/thrown away     -9600   \n",
       "4287     C536757     84347  ROTATING SILVER ANGELS T-LIGHT HLDR     -9360   \n",
       "225528    556687     23003         Printing smudges/thrown away     -9058   \n",
       "115818    546152    72140F                           throw away     -5368   \n",
       "431381    573596    79323W               Unsaleable, destroyed.     -4830   \n",
       "341601    566768     16045                                  NaN     -3667   \n",
       "323458    565304     16259                                  NaN     -3167   \n",
       "\n",
       "       CustomerID  \n",
       "540422      16446  \n",
       "61624       12346  \n",
       "225530        NaN  \n",
       "225529        NaN  \n",
       "4287        15838  \n",
       "225528        NaN  \n",
       "115818        NaN  \n",
       "431381        NaN  \n",
       "341601        NaN  \n",
       "323458        NaN  "
      ]
     },
     "execution_count": 8,
     "metadata": {},
     "output_type": "execute_result"
    }
   ],
   "source": [
    "df[df.Quantity < -100].sort_values('Quantity', ascending=True).head(10)"
   ]
  },
  {
   "cell_type": "code",
   "execution_count": 9,
   "metadata": {},
   "outputs": [
    {
     "data": {
      "text/html": [
       "<div>\n",
       "<style scoped>\n",
       "    .dataframe tbody tr th:only-of-type {\n",
       "        vertical-align: middle;\n",
       "    }\n",
       "\n",
       "    .dataframe tbody tr th {\n",
       "        vertical-align: top;\n",
       "    }\n",
       "\n",
       "    .dataframe thead th {\n",
       "        text-align: right;\n",
       "    }\n",
       "</style>\n",
       "<table border=\"1\" class=\"dataframe\">\n",
       "  <thead>\n",
       "    <tr style=\"text-align: right;\">\n",
       "      <th></th>\n",
       "      <th>Quantity</th>\n",
       "    </tr>\n",
       "  </thead>\n",
       "  <tbody>\n",
       "    <tr>\n",
       "      <th>count</th>\n",
       "      <td>541909.00</td>\n",
       "    </tr>\n",
       "    <tr>\n",
       "      <th>mean</th>\n",
       "      <td>9.55</td>\n",
       "    </tr>\n",
       "    <tr>\n",
       "      <th>std</th>\n",
       "      <td>218.08</td>\n",
       "    </tr>\n",
       "    <tr>\n",
       "      <th>min</th>\n",
       "      <td>-80995.00</td>\n",
       "    </tr>\n",
       "    <tr>\n",
       "      <th>25%</th>\n",
       "      <td>1.00</td>\n",
       "    </tr>\n",
       "    <tr>\n",
       "      <th>50%</th>\n",
       "      <td>3.00</td>\n",
       "    </tr>\n",
       "    <tr>\n",
       "      <th>75%</th>\n",
       "      <td>10.00</td>\n",
       "    </tr>\n",
       "    <tr>\n",
       "      <th>max</th>\n",
       "      <td>80995.00</td>\n",
       "    </tr>\n",
       "  </tbody>\n",
       "</table>\n",
       "</div>"
      ],
      "text/plain": [
       "        Quantity\n",
       "count  541909.00\n",
       "mean        9.55\n",
       "std       218.08\n",
       "min    -80995.00\n",
       "25%         1.00\n",
       "50%         3.00\n",
       "75%        10.00\n",
       "max     80995.00"
      ]
     },
     "execution_count": 9,
     "metadata": {},
     "output_type": "execute_result"
    }
   ],
   "source": [
    "df.describe().round(2)"
   ]
  },
  {
   "cell_type": "code",
   "execution_count": 10,
   "metadata": {},
   "outputs": [
    {
     "data": {
      "text/plain": [
       "(541909, 5)"
      ]
     },
     "execution_count": 10,
     "metadata": {},
     "output_type": "execute_result"
    }
   ],
   "source": [
    "#ตรวจสอบมิติว่ามีข้อมูลกี่รายการ\n",
    "df.shape"
   ]
  },
  {
   "cell_type": "markdown",
   "metadata": {},
   "source": [
    "ตรวจสอบว่าลูกค้าแต่ละคน (แต่ละ CustomerID) มียอดซื้อสินค้ากี่รายการ "
   ]
  },
  {
   "cell_type": "code",
   "execution_count": 11,
   "metadata": {},
   "outputs": [
    {
     "data": {
      "text/plain": [
       "CustomerID\n",
       "17841    7983\n",
       "14911    5903\n",
       "14096    5128\n",
       "12748    4642\n",
       "14606    2782\n",
       "15311    2491\n",
       "14646    2085\n",
       "13089    1857\n",
       "13263    1677\n",
       "14298    1640\n",
       "15039    1508\n",
       "14156    1420\n",
       "18118    1284\n",
       "14159    1212\n",
       "14796    1165\n",
       "15005    1160\n",
       "16033    1152\n",
       "14056    1128\n",
       "14769    1094\n",
       "17511    1076\n",
       "Name: InvoiceNo, dtype: int64"
      ]
     },
     "execution_count": 11,
     "metadata": {},
     "output_type": "execute_result"
    }
   ],
   "source": [
    "df.groupby('CustomerID').count().sort_values('InvoiceNo',\n",
    "           ascending=False).InvoiceNo.head(20)"
   ]
  },
  {
   "cell_type": "code",
   "execution_count": 12,
   "metadata": {},
   "outputs": [
    {
     "data": {
      "text/plain": [
       "InvoiceNo           0\n",
       "StockCode           0\n",
       "Description      1454\n",
       "Quantity            0\n",
       "CustomerID     135080\n",
       "dtype: int64"
      ]
     },
     "execution_count": 12,
     "metadata": {},
     "output_type": "execute_result"
    }
   ],
   "source": [
    "#ตรวจสอบข้อมูลที่สูญหาย missing data\n",
    "df.isnull().sum()"
   ]
  },
  {
   "cell_type": "markdown",
   "metadata": {},
   "source": [
    "การเตรียมข้อมูลเบื้องต้น "
   ]
  },
  {
   "cell_type": "code",
   "execution_count": 13,
   "metadata": {},
   "outputs": [
    {
     "data": {
      "text/plain": [
       "InvoiceNo      10624\n",
       "StockCode      10624\n",
       "Description     9762\n",
       "Quantity       10624\n",
       "CustomerID      8905\n",
       "dtype: int64"
      ]
     },
     "execution_count": 13,
     "metadata": {},
     "output_type": "execute_result"
    }
   ],
   "source": [
    "#ดูข้อมูลการคืนสินค้าที่จะต้องพิจารณาตัดทิ้ง \n",
    "df[df.Quantity < 0].count()\n"
   ]
  },
  {
   "cell_type": "code",
   "execution_count": 14,
   "metadata": {},
   "outputs": [
    {
     "data": {
      "text/html": [
       "<div>\n",
       "<style scoped>\n",
       "    .dataframe tbody tr th:only-of-type {\n",
       "        vertical-align: middle;\n",
       "    }\n",
       "\n",
       "    .dataframe tbody tr th {\n",
       "        vertical-align: top;\n",
       "    }\n",
       "\n",
       "    .dataframe thead th {\n",
       "        text-align: right;\n",
       "    }\n",
       "</style>\n",
       "<table border=\"1\" class=\"dataframe\">\n",
       "  <thead>\n",
       "    <tr style=\"text-align: right;\">\n",
       "      <th></th>\n",
       "      <th>InvoiceNo</th>\n",
       "      <th>StockCode</th>\n",
       "      <th>Description</th>\n",
       "      <th>Quantity</th>\n",
       "      <th>CustomerID</th>\n",
       "    </tr>\n",
       "  </thead>\n",
       "  <tbody>\n",
       "    <tr>\n",
       "      <th>141</th>\n",
       "      <td>C536379</td>\n",
       "      <td>D</td>\n",
       "      <td>Discount</td>\n",
       "      <td>-1</td>\n",
       "      <td>14527</td>\n",
       "    </tr>\n",
       "    <tr>\n",
       "      <th>154</th>\n",
       "      <td>C536383</td>\n",
       "      <td>35004C</td>\n",
       "      <td>SET OF 3 COLOURED  FLYING DUCKS</td>\n",
       "      <td>-1</td>\n",
       "      <td>15311</td>\n",
       "    </tr>\n",
       "    <tr>\n",
       "      <th>235</th>\n",
       "      <td>C536391</td>\n",
       "      <td>22556</td>\n",
       "      <td>PLASTERS IN TIN CIRCUS PARADE</td>\n",
       "      <td>-12</td>\n",
       "      <td>17548</td>\n",
       "    </tr>\n",
       "    <tr>\n",
       "      <th>236</th>\n",
       "      <td>C536391</td>\n",
       "      <td>21984</td>\n",
       "      <td>PACK OF 12 PINK PAISLEY TISSUES</td>\n",
       "      <td>-24</td>\n",
       "      <td>17548</td>\n",
       "    </tr>\n",
       "    <tr>\n",
       "      <th>237</th>\n",
       "      <td>C536391</td>\n",
       "      <td>21983</td>\n",
       "      <td>PACK OF 12 BLUE PAISLEY TISSUES</td>\n",
       "      <td>-24</td>\n",
       "      <td>17548</td>\n",
       "    </tr>\n",
       "    <tr>\n",
       "      <th>...</th>\n",
       "      <td>...</td>\n",
       "      <td>...</td>\n",
       "      <td>...</td>\n",
       "      <td>...</td>\n",
       "      <td>...</td>\n",
       "    </tr>\n",
       "    <tr>\n",
       "      <th>540449</th>\n",
       "      <td>C581490</td>\n",
       "      <td>23144</td>\n",
       "      <td>ZINC T-LIGHT HOLDER STARS SMALL</td>\n",
       "      <td>-11</td>\n",
       "      <td>14397</td>\n",
       "    </tr>\n",
       "    <tr>\n",
       "      <th>541541</th>\n",
       "      <td>C581499</td>\n",
       "      <td>M</td>\n",
       "      <td>Manual</td>\n",
       "      <td>-1</td>\n",
       "      <td>15498</td>\n",
       "    </tr>\n",
       "    <tr>\n",
       "      <th>541715</th>\n",
       "      <td>C581568</td>\n",
       "      <td>21258</td>\n",
       "      <td>VICTORIAN SEWING BOX LARGE</td>\n",
       "      <td>-5</td>\n",
       "      <td>15311</td>\n",
       "    </tr>\n",
       "    <tr>\n",
       "      <th>541716</th>\n",
       "      <td>C581569</td>\n",
       "      <td>84978</td>\n",
       "      <td>HANGING HEART JAR T-LIGHT HOLDER</td>\n",
       "      <td>-1</td>\n",
       "      <td>17315</td>\n",
       "    </tr>\n",
       "    <tr>\n",
       "      <th>541717</th>\n",
       "      <td>C581569</td>\n",
       "      <td>20979</td>\n",
       "      <td>36 PENCILS TUBE RED RETROSPOT</td>\n",
       "      <td>-5</td>\n",
       "      <td>17315</td>\n",
       "    </tr>\n",
       "  </tbody>\n",
       "</table>\n",
       "<p>10624 rows × 5 columns</p>\n",
       "</div>"
      ],
      "text/plain": [
       "       InvoiceNo StockCode                       Description  Quantity  \\\n",
       "141      C536379         D                          Discount        -1   \n",
       "154      C536383    35004C   SET OF 3 COLOURED  FLYING DUCKS        -1   \n",
       "235      C536391     22556    PLASTERS IN TIN CIRCUS PARADE        -12   \n",
       "236      C536391     21984  PACK OF 12 PINK PAISLEY TISSUES        -24   \n",
       "237      C536391     21983  PACK OF 12 BLUE PAISLEY TISSUES        -24   \n",
       "...          ...       ...                               ...       ...   \n",
       "540449   C581490     23144   ZINC T-LIGHT HOLDER STARS SMALL       -11   \n",
       "541541   C581499         M                            Manual        -1   \n",
       "541715   C581568     21258        VICTORIAN SEWING BOX LARGE        -5   \n",
       "541716   C581569     84978  HANGING HEART JAR T-LIGHT HOLDER        -1   \n",
       "541717   C581569     20979     36 PENCILS TUBE RED RETROSPOT        -5   \n",
       "\n",
       "       CustomerID  \n",
       "141         14527  \n",
       "154         15311  \n",
       "235         17548  \n",
       "236         17548  \n",
       "237         17548  \n",
       "...           ...  \n",
       "540449      14397  \n",
       "541541      15498  \n",
       "541715      15311  \n",
       "541716      17315  \n",
       "541717      17315  \n",
       "\n",
       "[10624 rows x 5 columns]"
      ]
     },
     "execution_count": 14,
     "metadata": {},
     "output_type": "execute_result"
    }
   ],
   "source": [
    "df[df.Quantity < 0]"
   ]
  },
  {
   "cell_type": "code",
   "execution_count": 15,
   "metadata": {},
   "outputs": [
    {
     "data": {
      "text/plain": [
       "(531285, 5)"
      ]
     },
     "execution_count": 15,
     "metadata": {},
     "output_type": "execute_result"
    }
   ],
   "source": [
    "#ตัดรายการที่คืนสินค้าออก\n",
    "df = df[df.Quantity > 0]\n",
    "df.shape"
   ]
  },
  {
   "cell_type": "markdown",
   "metadata": {},
   "source": [
    "เปลี่ยนข้อมูลให้เป็น String เพื่อใช้กับ Word2Vec"
   ]
  },
  {
   "cell_type": "code",
   "execution_count": 16,
   "metadata": {},
   "outputs": [],
   "source": [
    "df['CustomerID'] = df['CustomerID'].astype(str)\n",
    "df['StockCode'] = df['StockCode'].astype(str)\n",
    "df['InvoiceNo'] = df['InvoiceNo'].astype(str)"
   ]
  },
  {
   "cell_type": "markdown",
   "metadata": {},
   "source": [
    "ตรวจสอบ Invoice ที่มีการซื้อเพียง 1 รายการ จะไม่สร้างความเชื่อมโยงกับสินค้าอื่น ให้พิจารณาตัดทิ้ง "
   ]
  },
  {
   "cell_type": "code",
   "execution_count": 17,
   "metadata": {},
   "outputs": [
    {
     "data": {
      "text/plain": [
       "InvoiceNo\n",
       "A563187       1\n",
       "561392        1\n",
       "561386        1\n",
       "542145        1\n",
       "561372        1\n",
       "           ... \n",
       "558475      705\n",
       "580729      721\n",
       "581492      731\n",
       "581219      749\n",
       "573585     1114\n",
       "Name: Quantity, Length: 20728, dtype: int64"
      ]
     },
     "execution_count": 17,
     "metadata": {},
     "output_type": "execute_result"
    }
   ],
   "source": [
    "df_invoice = df.groupby('InvoiceNo').count().Quantity.sort_values()\n",
    "df_invoice"
   ]
  },
  {
   "cell_type": "markdown",
   "metadata": {},
   "source": [
    "ทำการตัดทิ้งรายการสินค้าที่มีการซื้อเพียงรายการเดียว "
   ]
  },
  {
   "cell_type": "code",
   "execution_count": 18,
   "metadata": {},
   "outputs": [
    {
     "data": {
      "text/plain": [
       "['A563187',\n",
       " '561392',\n",
       " '561386',\n",
       " '542145',\n",
       " '561372',\n",
       " '561368',\n",
       " '561365',\n",
       " '561361',\n",
       " '561333',\n",
       " '561327']"
      ]
     },
     "execution_count": 18,
     "metadata": {},
     "output_type": "execute_result"
    }
   ],
   "source": [
    "frame = {'InvoiceNo': df_invoice.index, 'Count': df_invoice.values}\n",
    "\n",
    "res = pd.DataFrame(frame)\n",
    "invoices_small = res[res.Count <= 1].InvoiceNo.tolist()\n",
    "invoices_small[:10]"
   ]
  },
  {
   "cell_type": "markdown",
   "metadata": {},
   "source": [
    "การเอารายการ list ที่มีอยู่ใน invoice_small ไปตัดออกจากข้อมูลรายการหลัก df "
   ]
  },
  {
   "cell_type": "code",
   "execution_count": 19,
   "metadata": {},
   "outputs": [
    {
     "data": {
      "text/plain": [
       "(528911, 5)"
      ]
     },
     "execution_count": 19,
     "metadata": {},
     "output_type": "execute_result"
    }
   ],
   "source": [
    "df = df[df.InvoiceNo.apply(lambda x: x not in invoices_small)]\n",
    "df.shape"
   ]
  },
  {
   "cell_type": "markdown",
   "metadata": {},
   "source": [
    "ตรวจสอบพบว่า จะเหลือ Invoice ที่มี 2 รายการเท่านั้น "
   ]
  },
  {
   "cell_type": "code",
   "execution_count": 20,
   "metadata": {},
   "outputs": [
    {
     "data": {
      "text/plain": [
       "InvoiceNo\n",
       "563208       2\n",
       "565206       2\n",
       "565205       2\n",
       "542889       2\n",
       "554952       2\n",
       "          ... \n",
       "558475     705\n",
       "580729     721\n",
       "581492     731\n",
       "581219     749\n",
       "573585    1114\n",
       "Length: 18354, dtype: int64"
      ]
     },
     "execution_count": 20,
     "metadata": {},
     "output_type": "execute_result"
    }
   ],
   "source": [
    "df.groupby('InvoiceNo').size().sort_values()"
   ]
  },
  {
   "cell_type": "markdown",
   "metadata": {},
   "source": [
    "การเตรียม Dataset เพื่อใช้ในการ Train โมเดล AI "
   ]
  },
  {
   "cell_type": "code",
   "execution_count": 21,
   "metadata": {},
   "outputs": [
    {
     "name": "stdout",
     "output_type": "stream",
     "text": [
      "18354\n"
     ]
    },
    {
     "data": {
      "text/plain": [
       "['536365', '536366', '536367', '536368', '536370', '536372']"
      ]
     },
     "execution_count": 21,
     "metadata": {},
     "output_type": "execute_result"
    }
   ],
   "source": [
    "customers = df.InvoiceNo.unique().tolist()\n",
    "print(len(customers)) #จำนวนไป Invoice \n",
    "customers[:6] #ตัวอย่างข้อมูล List คือเลข Invoice "
   ]
  },
  {
   "cell_type": "markdown",
   "metadata": {},
   "source": [
    "การแบ่งข้อมูลออกเป็น 2 ส่วน คือสำหรับการ Train และ Validation"
   ]
  },
  {
   "cell_type": "code",
   "execution_count": 22,
   "metadata": {},
   "outputs": [],
   "source": [
    "# กรณีต้องการสลับตำแหน่ง (Shuffle) customer ให้เปิดใช้ 2 บรรทัดต่อไปนี้ \n",
    "# import random\n",
    "# random.shuffle(customers)\n",
    "\n",
    "#แบ่งข้อมูลในการ Train 90%\n",
    "customers_train = [customers[i] for i in range(round(0.9*len(customers)))] \n",
    "\n",
    "#แบ่ง data train และ validation set\n",
    "train_df = df[df['InvoiceNo'].isin(customers_train)]\n",
    "\n",
    "#validation คือส่วนที่ไม่อยู่ใน customers_train\n",
    "validation_df = df[~df['InvoiceNo'].isin(customers_train)]"
   ]
  },
  {
   "cell_type": "code",
   "execution_count": 23,
   "metadata": {},
   "outputs": [
    {
     "data": {
      "text/html": [
       "<div>\n",
       "<style scoped>\n",
       "    .dataframe tbody tr th:only-of-type {\n",
       "        vertical-align: middle;\n",
       "    }\n",
       "\n",
       "    .dataframe tbody tr th {\n",
       "        vertical-align: top;\n",
       "    }\n",
       "\n",
       "    .dataframe thead th {\n",
       "        text-align: right;\n",
       "    }\n",
       "</style>\n",
       "<table border=\"1\" class=\"dataframe\">\n",
       "  <thead>\n",
       "    <tr style=\"text-align: right;\">\n",
       "      <th></th>\n",
       "      <th>InvoiceNo</th>\n",
       "      <th>StockCode</th>\n",
       "      <th>Description</th>\n",
       "      <th>Quantity</th>\n",
       "      <th>CustomerID</th>\n",
       "    </tr>\n",
       "  </thead>\n",
       "  <tbody>\n",
       "    <tr>\n",
       "      <th>0</th>\n",
       "      <td>536365</td>\n",
       "      <td>85123A</td>\n",
       "      <td>WHITE HANGING HEART T-LIGHT HOLDER</td>\n",
       "      <td>6</td>\n",
       "      <td>17850</td>\n",
       "    </tr>\n",
       "    <tr>\n",
       "      <th>1</th>\n",
       "      <td>536365</td>\n",
       "      <td>71053</td>\n",
       "      <td>WHITE METAL LANTERN</td>\n",
       "      <td>6</td>\n",
       "      <td>17850</td>\n",
       "    </tr>\n",
       "    <tr>\n",
       "      <th>2</th>\n",
       "      <td>536365</td>\n",
       "      <td>84406B</td>\n",
       "      <td>CREAM CUPID HEARTS COAT HANGER</td>\n",
       "      <td>8</td>\n",
       "      <td>17850</td>\n",
       "    </tr>\n",
       "    <tr>\n",
       "      <th>3</th>\n",
       "      <td>536365</td>\n",
       "      <td>84029G</td>\n",
       "      <td>KNITTED UNION FLAG HOT WATER BOTTLE</td>\n",
       "      <td>6</td>\n",
       "      <td>17850</td>\n",
       "    </tr>\n",
       "    <tr>\n",
       "      <th>4</th>\n",
       "      <td>536365</td>\n",
       "      <td>84029E</td>\n",
       "      <td>RED WOOLLY HOTTIE WHITE HEART.</td>\n",
       "      <td>6</td>\n",
       "      <td>17850</td>\n",
       "    </tr>\n",
       "    <tr>\n",
       "      <th>...</th>\n",
       "      <td>...</td>\n",
       "      <td>...</td>\n",
       "      <td>...</td>\n",
       "      <td>...</td>\n",
       "      <td>...</td>\n",
       "    </tr>\n",
       "    <tr>\n",
       "      <th>479542</th>\n",
       "      <td>577167</td>\n",
       "      <td>23439</td>\n",
       "      <td>HAND WARMER RED LOVE HEART</td>\n",
       "      <td>4</td>\n",
       "      <td>16511</td>\n",
       "    </tr>\n",
       "    <tr>\n",
       "      <th>479543</th>\n",
       "      <td>577167</td>\n",
       "      <td>22834</td>\n",
       "      <td>HAND WARMER BABUSHKA DESIGN</td>\n",
       "      <td>2</td>\n",
       "      <td>16511</td>\n",
       "    </tr>\n",
       "    <tr>\n",
       "      <th>479544</th>\n",
       "      <td>577168</td>\n",
       "      <td>22423</td>\n",
       "      <td>REGENCY CAKESTAND 3 TIER</td>\n",
       "      <td>56</td>\n",
       "      <td>12603</td>\n",
       "    </tr>\n",
       "    <tr>\n",
       "      <th>479545</th>\n",
       "      <td>577168</td>\n",
       "      <td>POST</td>\n",
       "      <td>POSTAGE</td>\n",
       "      <td>7</td>\n",
       "      <td>12603</td>\n",
       "    </tr>\n",
       "    <tr>\n",
       "      <th>479546</th>\n",
       "      <td>577168</td>\n",
       "      <td>M</td>\n",
       "      <td>Manual</td>\n",
       "      <td>1</td>\n",
       "      <td>12603</td>\n",
       "    </tr>\n",
       "  </tbody>\n",
       "</table>\n",
       "<p>467639 rows × 5 columns</p>\n",
       "</div>"
      ],
      "text/plain": [
       "       InvoiceNo StockCode                          Description  Quantity  \\\n",
       "0         536365    85123A   WHITE HANGING HEART T-LIGHT HOLDER         6   \n",
       "1         536365     71053                  WHITE METAL LANTERN         6   \n",
       "2         536365    84406B       CREAM CUPID HEARTS COAT HANGER         8   \n",
       "3         536365    84029G  KNITTED UNION FLAG HOT WATER BOTTLE         6   \n",
       "4         536365    84029E       RED WOOLLY HOTTIE WHITE HEART.         6   \n",
       "...          ...       ...                                  ...       ...   \n",
       "479542    577167     23439           HAND WARMER RED LOVE HEART         4   \n",
       "479543    577167     22834          HAND WARMER BABUSHKA DESIGN         2   \n",
       "479544    577168     22423             REGENCY CAKESTAND 3 TIER        56   \n",
       "479545    577168      POST                              POSTAGE         7   \n",
       "479546    577168         M                               Manual         1   \n",
       "\n",
       "       CustomerID  \n",
       "0           17850  \n",
       "1           17850  \n",
       "2           17850  \n",
       "3           17850  \n",
       "4           17850  \n",
       "...           ...  \n",
       "479542      16511  \n",
       "479543      16511  \n",
       "479544      12603  \n",
       "479545      12603  \n",
       "479546      12603  \n",
       "\n",
       "[467639 rows x 5 columns]"
      ]
     },
     "execution_count": 23,
     "metadata": {},
     "output_type": "execute_result"
    }
   ],
   "source": [
    "train_df"
   ]
  },
  {
   "cell_type": "markdown",
   "metadata": {},
   "source": [
    "การใช้ tqdm เพื่อแสดง Progress bar "
   ]
  },
  {
   "cell_type": "code",
   "execution_count": 24,
   "metadata": {},
   "outputs": [
    {
     "name": "stderr",
     "output_type": "stream",
     "text": [
      "100%|██████████| 16519/16519 [11:46<00:00, 23.39it/s]\n"
     ]
    }
   ],
   "source": [
    "purchase_train = []\n",
    "\n",
    "# for i in customers_train: # ถ้าไม่ใช้ tqdm\n",
    "for i in tqdm(customers_train): #ใช้ tqdm แสดง % ของ progress bar \n",
    "    temp = train_df[train_df.InvoiceNo == i]['StockCode'].tolist()\n",
    "    purchase_train.append(temp)\n"
   ]
  },
  {
   "cell_type": "markdown",
   "metadata": {},
   "source": [
    "การ Train โมเดล และการสร้างมอนิเตอร์ Callback เพื่อรายงานความก้าวหน้าในขณะที่ Train โมเดล "
   ]
  },
  {
   "cell_type": "code",
   "execution_count": 25,
   "metadata": {},
   "outputs": [
    {
     "name": "stdout",
     "output_type": "stream",
     "text": [
      "Epoch #40/40\n"
     ]
    }
   ],
   "source": [
    "#การสร้างมอนิเตอร์ Callback เพื่อรายงานความก้าวหน้าของ Epoch ในขณะที่ Train โมเดล \n",
    "\n",
    "from IPython.display import clear_output\n",
    "\n",
    "#คลาสสำหรับมอนิเตอร์แต่ละ Epoch (Callback)\n",
    "class MonitorCallback(CallbackAny2Vec):\n",
    "    def __init__(self):\n",
    "        self.epoch = 0\n",
    "        clear_output(wait=True)\n",
    "        print('Start...')\n",
    "    \n",
    "    def on_epoch_begin(self, model):\n",
    "        pass \n",
    "        #print('Epoch start')\n",
    "    \n",
    "    def on_epoch_end(self, model):\n",
    "        clear_output(wait=True)\n",
    "        print('Epoch #{}/{}'.format(self.epoch+1, model.epochs)) #แสดงรอบการ Train\n",
    "        self.epoch += 1\n",
    "\n",
    "monitor = MonitorCallback()\n",
    "\n",
    "#ทำการ Train โมเดล \n",
    "model = Word2Vec(purchase_train, vector_size=50, window=5,\n",
    "                sg=1, workers=4, epochs=40, callbacks=[monitor])"
   ]
  },
  {
   "cell_type": "code",
   "execution_count": 26,
   "metadata": {},
   "outputs": [
    {
     "name": "stdout",
     "output_type": "stream",
     "text": [
      "Word2Vec<vocab=3414, vector_size=50, alpha=0.025>\n"
     ]
    }
   ],
   "source": [
    "#vocab คือจำนวนรหัสสินค้า (StockCode) เนื่องจากใช้รหัสสินค้าเป็นคำ หรือ vocab ในการ Train \n",
    "print(model)"
   ]
  },
  {
   "cell_type": "code",
   "execution_count": 27,
   "metadata": {},
   "outputs": [
    {
     "data": {
      "text/plain": [
       "['85123A', '85099B', '22423', '47566', '20725', '84879']"
      ]
     },
     "execution_count": 27,
     "metadata": {},
     "output_type": "execute_result"
    }
   ],
   "source": [
    "#ตรวจสอบว่าในโมเดล มีรหัสสินค้าอะไรบ้าง \n",
    "model.wv.index_to_key[:6]"
   ]
  },
  {
   "cell_type": "code",
   "execution_count": 28,
   "metadata": {},
   "outputs": [
    {
     "data": {
      "text/plain": [
       "array([-0.51269984,  0.11958496,  0.00414081,  0.18322952,  0.17424464,\n",
       "       -0.2255136 ,  0.20837617, -0.08028978, -0.3468097 , -0.25205544,\n",
       "       -0.5057273 , -0.20947315,  0.4660885 ,  0.24476872,  0.3805952 ,\n",
       "        0.13975409,  0.30682805,  0.09305061, -0.13582551, -0.38401222,\n",
       "       -0.30956382, -0.1592972 ,  0.3564145 , -0.2756034 ,  0.03297355,\n",
       "        0.12263505, -0.12099301, -0.15860513, -0.0650375 , -0.2176955 ,\n",
       "        0.5744074 , -0.14881174,  0.34259447, -0.18630224, -0.22751823,\n",
       "       -0.13403167,  0.23391931,  0.82858074,  0.10664739,  0.2533603 ,\n",
       "        0.09662908,  0.28087234, -0.43880895,  0.21581322,  0.4897068 ,\n",
       "        0.0254067 , -0.24564184, -0.14055906,  0.16257404,  0.08109956],\n",
       "      dtype=float32)"
      ]
     },
     "execution_count": 28,
     "metadata": {},
     "output_type": "execute_result"
    }
   ],
   "source": [
    "#ตรวจสอบเวกเตอร์ของสินค้า \n",
    "model.wv['22423']"
   ]
  },
  {
   "cell_type": "markdown",
   "metadata": {},
   "source": [
    "บันทึก model ไว้ใช้งาน คือสามารถนำ model ไปแนะนำสินค้าได้"
   ]
  },
  {
   "cell_type": "code",
   "execution_count": 29,
   "metadata": {},
   "outputs": [],
   "source": [
    "model.save('amazon_store.model')"
   ]
  },
  {
   "cell_type": "markdown",
   "metadata": {},
   "source": [
    "การแนะนำสินค้า คือการนำ model ไปใช้งาน เพื่อแนะนำสินค้า โดยหาค่าความคล้ายกันของรหัสสินค้า"
   ]
  },
  {
   "cell_type": "code",
   "execution_count": 30,
   "metadata": {},
   "outputs": [
    {
     "data": {
      "text/plain": [
       "[('22631', 0.6828837394714355),\n",
       " ('22629', 0.6457213163375854),\n",
       " ('22614', 0.6364689469337463),\n",
       " ('22630', 0.6270318627357483),\n",
       " ('21987', 0.5911484956741333)]"
      ]
     },
     "execution_count": 30,
     "metadata": {},
     "output_type": "execute_result"
    }
   ],
   "source": [
    "#การหาค่าความคล้ายกันมากที่สุดของรายการสินค้า 5 อันดับแรก\n",
    "\n",
    "model.wv.most_similar('22613', topn=5)"
   ]
  },
  {
   "cell_type": "markdown",
   "metadata": {},
   "source": [
    "การสร้าง dictinary เพื่อแสดงรายการสินค้า ทีี่มี key-value เป็น StockCode: Description"
   ]
  },
  {
   "cell_type": "code",
   "execution_count": 31,
   "metadata": {},
   "outputs": [
    {
     "name": "stderr",
     "output_type": "stream",
     "text": [
      "C:\\Users\\Taechatuch\\AppData\\Local\\Temp\\ipykernel_7444\\4008043085.py:4: SettingWithCopyWarning: \n",
      "A value is trying to be set on a copy of a slice from a DataFrame\n",
      "\n",
      "See the caveats in the documentation: https://pandas.pydata.org/pandas-docs/stable/user_guide/indexing.html#returning-a-view-versus-a-copy\n",
      "  products.drop_duplicates(inplace=True, subset='StockCode', keep='last')\n"
     ]
    },
    {
     "data": {
      "text/html": [
       "<div>\n",
       "<style scoped>\n",
       "    .dataframe tbody tr th:only-of-type {\n",
       "        vertical-align: middle;\n",
       "    }\n",
       "\n",
       "    .dataframe tbody tr th {\n",
       "        vertical-align: top;\n",
       "    }\n",
       "\n",
       "    .dataframe thead th {\n",
       "        text-align: right;\n",
       "    }\n",
       "</style>\n",
       "<table border=\"1\" class=\"dataframe\">\n",
       "  <thead>\n",
       "    <tr style=\"text-align: right;\">\n",
       "      <th></th>\n",
       "      <th>StockCode</th>\n",
       "      <th>Description</th>\n",
       "    </tr>\n",
       "  </thead>\n",
       "  <tbody>\n",
       "    <tr>\n",
       "      <th>107</th>\n",
       "      <td>84854</td>\n",
       "      <td>GIRLY PINK TOOL SET</td>\n",
       "    </tr>\n",
       "    <tr>\n",
       "      <th>2313</th>\n",
       "      <td>82615</td>\n",
       "      <td>PINK MARSHMALLOW SCARF KNITTING KIT</td>\n",
       "    </tr>\n",
       "    <tr>\n",
       "      <th>4116</th>\n",
       "      <td>35271S</td>\n",
       "      <td>GOLD PRINT PAPER BAG</td>\n",
       "    </tr>\n",
       "    <tr>\n",
       "      <th>4582</th>\n",
       "      <td>21268</td>\n",
       "      <td>VINTAGE BLUE TINSEL REEL</td>\n",
       "    </tr>\n",
       "    <tr>\n",
       "      <th>5024</th>\n",
       "      <td>16161M</td>\n",
       "      <td>WRAP  PINK FLOCK</td>\n",
       "    </tr>\n",
       "  </tbody>\n",
       "</table>\n",
       "</div>"
      ],
      "text/plain": [
       "     StockCode                          Description\n",
       "107      84854                  GIRLY PINK TOOL SET\n",
       "2313     82615  PINK MARSHMALLOW SCARF KNITTING KIT\n",
       "4116    35271S                 GOLD PRINT PAPER BAG\n",
       "4582     21268             VINTAGE BLUE TINSEL REEL\n",
       "5024    16161M                     WRAP  PINK FLOCK"
      ]
     },
     "execution_count": 31,
     "metadata": {},
     "output_type": "execute_result"
    }
   ],
   "source": [
    "products = train_df[['StockCode', 'Description']]\n",
    "\n",
    "#ลบส่วนที่ซ้ำกันออก (Remove duplicates)\n",
    "products.drop_duplicates(inplace=True, subset='StockCode', keep='last')\n",
    "products[:5]"
   ]
  },
  {
   "cell_type": "code",
   "execution_count": 32,
   "metadata": {},
   "outputs": [
    {
     "data": {
      "text/plain": [
       "['RETROSPOT TEA SET CERAMIC 11 PC ']"
      ]
     },
     "execution_count": 32,
     "metadata": {},
     "output_type": "execute_result"
    }
   ],
   "source": [
    "#สร้าง dictionary StockCode:Description และการทดสอบการค้นชื่อจากรหัสสินค้า \n",
    "\n",
    "products_dict = products.groupby('StockCode')['Description'].apply(list).to_dict()\n",
    "products_dict['22139']"
   ]
  },
  {
   "cell_type": "markdown",
   "metadata": {},
   "source": [
    "ทำการแนะนำสินค้า สมมุติว่าลูกค้ากำลังชมสินค้ารหัส '84997B' อยู่ ระบบจะนำรหัสสินค้าดังกล่าว ไปเข้า model หาว่าสินค้าตัวใดมีค่าความคล้ายกันมากทีี่สุด"
   ]
  },
  {
   "cell_type": "code",
   "execution_count": 33,
   "metadata": {},
   "outputs": [
    {
     "name": "stdout",
     "output_type": "stream",
     "text": [
      "Shopping 84997B CHILDRENS CUTLERY RETROSPOT RED \n",
      "--------------------------------------\n",
      "84997D CHILDRENS CUTLERY POLKADOT PINK      0.962\n",
      "84997C CHILDRENS CUTLERY POLKADOT BLUE      0.945\n",
      "84997A CHILDRENS CUTLERY POLKADOT GREEN     0.907\n",
      "23256  CHILDRENS CUTLERY SPACEBOY           0.699\n",
      "23254  CHILDRENS CUTLERY DOLLY GIRL         0.687\n",
      "23255  CHILDRENS CUTLERY CIRCUS PARADE      0.663\n",
      "21243  PINK POLKADOT PLATE                  0.656\n"
     ]
    }
   ],
   "source": [
    "sku_now = '84997B' #'15044C'\n",
    "similarity = model.wv.most_similar(sku_now, topn=7)\n",
    "\n",
    "print('Shopping', sku_now, products_dict[sku_now][0])\n",
    "print('--------------------------------------')\n",
    "\n",
    "for i in similarity:\n",
    "    if i[1] > 0.6:\n",
    "        print('{:6} {:36} {:.3f}'.format(i[0], products_dict[i[0]][0], i[1]))\n"
   ]
  },
  {
   "cell_type": "markdown",
   "metadata": {},
   "source": [
    "การแนะนำสินค้า เป็นลักษณะคู่กัน เช่น ถ้าจะซื้อนมผง ต้องซื้ออะไรด้วยเป็นต้น "
   ]
  },
  {
   "cell_type": "code",
   "execution_count": 34,
   "metadata": {},
   "outputs": [
    {
     "data": {
      "text/plain": [
       "[('84997C', 0.8048321604728699),\n",
       " ('84997D', 0.7997751832008362),\n",
       " ('23254', 0.7477673888206482),\n",
       " ('22138', 0.7464337944984436),\n",
       " ('84997A', 0.7245040535926819),\n",
       " ('23256', 0.7165073752403259),\n",
       " ('23255', 0.707794725894928)]"
      ]
     },
     "execution_count": 34,
     "metadata": {},
     "output_type": "execute_result"
    }
   ],
   "source": [
    "similars = model.wv.most_similar(['84997B', '22139'], topn=7)\n",
    "similars"
   ]
  },
  {
   "cell_type": "markdown",
   "metadata": {},
   "source": [
    "การ Plot กราฟแสดงความสัมพันธ์ของจุดสินค้า "
   ]
  },
  {
   "cell_type": "code",
   "execution_count": 35,
   "metadata": {},
   "outputs": [
    {
     "data": {
      "text/plain": [
       "(3414,)"
      ]
     },
     "execution_count": 35,
     "metadata": {},
     "output_type": "execute_result"
    }
   ],
   "source": [
    "#การนำรหัสสินค้ามาเก็บไว้ใน list labels\n",
    "\n",
    "labels = np.asarray(model.wv.index_to_key)\n",
    "labels.shape"
   ]
  },
  {
   "cell_type": "code",
   "execution_count": 36,
   "metadata": {},
   "outputs": [
    {
     "data": {
      "text/plain": [
       "array(['85123A', '85099B', '22423', '47566', '20725', '84879', '22720',\n",
       "       '21212', '22383', '22197'], dtype='<U12')"
      ]
     },
     "execution_count": 36,
     "metadata": {},
     "output_type": "execute_result"
    }
   ],
   "source": [
    "\n",
    "#การแสดง list labels 10 รายการ\n",
    "labels[:10]"
   ]
  },
  {
   "cell_type": "code",
   "execution_count": 37,
   "metadata": {},
   "outputs": [
    {
     "data": {
      "text/plain": [
       "(3414, 50)"
      ]
     },
     "execution_count": 37,
     "metadata": {},
     "output_type": "execute_result"
    }
   ],
   "source": [
    "#การนำเวกเตอร์ของสินค้าทั้งหมดมาเก็บไว้ใน vectors เพื่อเตรียม Plot \n",
    "vectors = np.asarray(model.wv.vectors)\n",
    "vectors.shape"
   ]
  },
  {
   "cell_type": "markdown",
   "metadata": {},
   "source": [
    "การเลือก Plot กราฟบางรายการ เพราะถ้านำมาทั้งหมดจะมีข้อมูลมากเกินไป "
   ]
  },
  {
   "cell_type": "code",
   "execution_count": 38,
   "metadata": {},
   "outputs": [
    {
     "data": {
      "image/png": "[encoded data removed]",
      "text/plain": [
       "<Figure size 432x288 with 1 Axes>"
      ]
     },
     "metadata": {
      "needs_background": "light"
     },
     "output_type": "display_data"
    }
   ],
   "source": [
    "lst_chk = ['85123A', '85099B', '22423', '47566', '20725', '84879', '22720',\n",
    "           '21212', '22383', '22197']\n",
    "\n",
    "from sklearn.decomposition import PCA\n",
    "\n",
    "pca = PCA(n_components=2)\n",
    "result =- pca.fit_transform(vectors)\n",
    "plt.figure(figsize=(6, 4))\n",
    "plt.scatter(result[:, 0], result[:, 1], s=10, alpha=.8, c='c')\n",
    "\n",
    "#พล็อตจุดและข้อความเวกเตอร์ เฉพาะสินค้าที่สนใจ (ในตัวแปร lst_chk เท่านั้น)\n",
    "for i, label in enumerate(labels):\n",
    "    if label in lst_chk:\n",
    "        plt.scatter(result[i][0], result[i][1], s=70, c='c')\n",
    "        plt.annotate(label, xy=(result[i, 0]+.005, result[i, 1]+.005))\n",
    "\n",
    "plt.show()"
   ]
  }
 ],
 "metadata": {
  "interpreter": {
   "hash": "628a0465dbd111405b4edd9d7b88a6fdbb764392335ef0e96f2e8a7899c710eb"
  },
  "kernelspec": {
   "display_name": "Python 3.9.10 64-bit ('myenv': conda)",
   "language": "python",
   "name": "python3"
  },
  "language_info": {
   "codemirror_mode": {
    "name": "ipython",
    "version": 3
   },
   "file_extension": ".py",
   "mimetype": "text/x-python",
   "name": "python",
   "nbconvert_exporter": "python",
   "pygments_lexer": "ipython3",
   "version": "3.9.12"
  },
  "orig_nbformat": 4
 },
 "nbformat": 4,
 "nbformat_minor": 2
}
